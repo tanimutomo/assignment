{
 "nbformat": 4,
 "nbformat_minor": 2,
 "metadata": {
  "language_info": {
   "name": "python",
   "codemirror_mode": {
    "name": "ipython",
    "version": 3
   },
   "version": "3.7.4-final"
  },
  "orig_nbformat": 2,
  "file_extension": ".py",
  "mimetype": "text/x-python",
  "name": "python",
  "npconvert_exporter": "python",
  "pygments_lexer": "ipython3",
  "version": 3,
  "kernelspec": {
   "name": "python37464bitpyenvpyenv3869e49746aa41988e8d9054c3a69d76",
   "display_name": "Python 3.7.4 64-bit ('.pyenv': pyenv)"
  }
 },
 "cells": [
  {
   "cell_type": "code",
   "execution_count": 1,
   "metadata": {},
   "outputs": [],
   "source": [
    "import pandas as pd\n",
    "from sklearn.preprocessing import LabelEncoder\n",
    "from sklearn.model_selection import train_test_split\n",
    "from sklearn.ensemble import RandomForestClassifier"
   ]
  },
  {
   "cell_type": "code",
   "execution_count": 2,
   "metadata": {},
   "outputs": [],
   "source": [
    "titanic=pd.read_csv('titanic.csv',encoding=\"shift-jis\")\n",
    "titanic=titanic.drop(['name','row.names'],axis=1)\n",
    "mean=round(titanic['age'].mean(),2)\n",
    "titanic['age'].fillna(mean,inplace=True)\n",
    "titanic.fillna(\"\",inplace=True)"
   ]
  },
  {
   "cell_type": "code",
   "execution_count": 3,
   "metadata": {},
   "outputs": [],
   "source": [
    "le = LabelEncoder()\n",
    "for i in titanic.columns.values.tolist():\n",
    "    if (i=='age'):\n",
    "        pass\n",
    "    else:\n",
    "        titanic[i] = le.fit_transform(titanic[i])"
   ]
  },
  {
   "cell_type": "code",
   "execution_count": 4,
   "metadata": {},
   "outputs": [],
   "source": [
    "titanic_target = titanic['survived']\n",
    "titanic_data=titanic.drop(['survived'],axis=1)\n",
    "yX=titanic_target\n",
    "yX=pd.concat([yX,titanic_data],axis=1)\n",
    "yX.to_csv('temp.csv',encoding='utf-8')\n",
    "X_train,X_test,y_train,y_test=train_test_split(titanic_data,titanic_target,test_size=0.2,random_state=54,shuffle=True)"
   ]
  },
  {
   "cell_type": "code",
   "execution_count": 5,
   "metadata": {},
   "outputs": [
    {
     "name": "stdout",
     "output_type": "stream",
     "text": "0.9285714285714286\nboat 0.438\nsex 0.256\nhome.dest 0.1198\nage 0.0953\npclass 0.0453\nembarked 0.0189\nroom 0.017\nticket 0.0097\n"
    }
   ],
   "source": [
    "clf=RandomForestClassifier(n_estimators=382, max_depth=None,min_samples_split=2,random_state=8)\n",
    "clf.fit(X_train,y_train)\n",
    "print(clf.score(X_test,y_test))\n",
    "dic=dict(zip(titanic_data.columns,clf.feature_importances_))\n",
    "for item in sorted(dic.items(), key=lambda x: x[1], reverse=True):\n",
    "    print(item[0],round(item[1],4))"
   ]
  },
  {
   "cell_type": "code",
   "execution_count": null,
   "metadata": {},
   "outputs": [],
   "source": []
  }
 ]
}