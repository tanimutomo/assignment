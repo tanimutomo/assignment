{
 "nbformat": 4,
 "nbformat_minor": 2,
 "metadata": {
  "language_info": {
   "name": "python",
   "codemirror_mode": {
    "name": "ipython",
    "version": 3
   }
  },
  "orig_nbformat": 2,
  "file_extension": ".py",
  "mimetype": "text/x-python",
  "name": "python",
  "npconvert_exporter": "python",
  "pygments_lexer": "ipython3",
  "version": 3,
  "kernelspec": {
   "name": "python37464bitpyenvpyenv3869e49746aa41988e8d9054c3a69d76",
   "display_name": "Python 3.7.4 64-bit ('.pyenv': pyenv)"
  }
 },
 "cells": [
  {
   "cell_type": "markdown",
   "execution_count": null,
   "metadata": {},
   "outputs": [],
   "source": [
    "# 肺癌のbinary classification datasetを利用したEnsemble MLの実験とSMOTEを用いた精度改善"
   ]
  },
  {
   "cell_type": "code",
   "execution_count": 13,
   "metadata": {},
   "outputs": [],
   "source": [
    "import random\n",
    "\n",
    "from imblearn.over_sampling import SMOTE\n",
    "import pandas as pd\n",
    "from sklearn.datasets import load_breast_cancer\n",
    "from sklearn.model_selection import train_test_split\n",
    "from sklearn.ensemble import RandomForestClassifier"
   ]
  },
  {
   "cell_type": "code",
   "execution_count": 14,
   "metadata": {},
   "outputs": [],
   "source": [
    "random.seed(0)"
   ]
  },
  {
   "cell_type": "markdown",
   "execution_count": null,
   "metadata": {},
   "outputs": [],
   "source": [
    "# Load Model\n",
    "sklearnに実装されている肺癌のpositve or negativeのbinary classificationを利用した"
   ]
  },
  {
   "cell_type": "code",
   "execution_count": 15,
   "metadata": {},
   "outputs": [],
   "source": [
    "dataset = load_breast_cancer(as_frame=True)\n",
    "data, target = dataset.data, dataset.target\n",
    "\n",
    "test_index = list()\n",
    "for c in target.unique():\n",
    "    test_index += random.sample(\n",
    "        target[target == c].index.tolist(),\n",
    "        int(len(data) * 0.1),\n",
    "    )\n",
    "\n",
    "x_train = data.drop(test_index, axis=0)\n",
    "y_train = target.drop(test_index, axis=0)\n",
    "x_test = data.iloc[test_index]\n",
    "y_test = target.iloc[test_index]"
   ]
  },
  {
   "cell_type": "markdown",
   "execution_count": null,
   "metadata": {},
   "outputs": [],
   "source": [
    "# Random Forestで分類\n",
    "そのままでもかなり精度は高い"
   ]
  },
  {
   "cell_type": "code",
   "execution_count": 16,
   "metadata": {},
   "outputs": [
    {
     "name": "stdout",
     "output_type": "stream",
     "text": "0.9285714285714286\n"
    }
   ],
   "source": [
    "clf = RandomForestClassifier(n_estimators=256, max_depth=None, random_state=0)\n",
    "clf.fit(x_train, y_train)\n",
    "print(clf.score(x_test, y_test))"
   ]
  },
  {
   "cell_type": "markdown",
   "execution_count": null,
   "metadata": {},
   "outputs": [],
   "source": [
    "## Feature Importance\n",
    "worst perimeter, area, radius 等が高くなっており，単純に癌の大きさ自体が結果に影響しているため，正しい結果と言える．"
   ]
  },
  {
   "cell_type": "code",
   "execution_count": 17,
   "metadata": {},
   "outputs": [
    {
     "data": {
      "text/html": "<div>\n<style scoped>\n    .dataframe tbody tr th:only-of-type {\n        vertical-align: middle;\n    }\n\n    .dataframe tbody tr th {\n        vertical-align: top;\n    }\n\n    .dataframe thead th {\n        text-align: right;\n    }\n</style>\n<table border=\"1\" class=\"dataframe\">\n  <thead>\n    <tr style=\"text-align: right;\">\n      <th></th>\n      <th>feature</th>\n      <th>importance</th>\n    </tr>\n  </thead>\n  <tbody>\n    <tr>\n      <th>22</th>\n      <td>worst perimeter</td>\n      <td>0.130424</td>\n    </tr>\n    <tr>\n      <th>27</th>\n      <td>worst concave points</td>\n      <td>0.124808</td>\n    </tr>\n    <tr>\n      <th>20</th>\n      <td>worst radius</td>\n      <td>0.122621</td>\n    </tr>\n    <tr>\n      <th>7</th>\n      <td>mean concave points</td>\n      <td>0.110492</td>\n    </tr>\n    <tr>\n      <th>23</th>\n      <td>worst area</td>\n      <td>0.102110</td>\n    </tr>\n  </tbody>\n</table>\n</div>",
      "text/plain": "                 feature  importance\n22       worst perimeter    0.130424\n27  worst concave points    0.124808\n20          worst radius    0.122621\n7    mean concave points    0.110492\n23            worst area    0.102110"
     },
     "execution_count": 17,
     "metadata": {},
     "output_type": "execute_result"
    }
   ],
   "source": [
    "def feature_importance(features, importances):\n",
    "    feature_imp = pd.DataFrame({\n",
    "        \"feature\": features,\n",
    "        \"importance\": importances,\n",
    "    })\n",
    "    feature_imp.sort_values(\"importance\", axis=0, ascending=False, inplace=True)\n",
    "    return feature_imp.head(5)\n",
    "\n",
    "feature_importance(data.columns, clf.feature_importances_)"
   ]
  },
  {
   "cell_type": "markdown",
   "execution_count": null,
   "metadata": {},
   "outputs": [],
   "source": [
    "# クラスの分布\n",
    "0よりも1の方が多い"
   ]
  },
  {
   "cell_type": "code",
   "execution_count": 18,
   "metadata": {},
   "outputs": [
    {
     "data": {
      "text/plain": "1    301\n0    156\nName: target, dtype: int64"
     },
     "execution_count": 18,
     "metadata": {},
     "output_type": "execute_result"
    }
   ],
   "source": [
    "y_train.value_counts()"
   ]
  },
  {
   "cell_type": "markdown",
   "execution_count": null,
   "metadata": {},
   "outputs": [],
   "source": [
    "# SMOTEによるData Augmentation -> Random Forest\n",
    "- 学習データにおけるクラス間の差が2倍のほどあったが，SMOTEを適用することにより，クラス間の差を擬似的になくしている．\n",
    "- 結果的に，分類の精度は向上した (0.9285 -> 0.9553  +0.268)\n",
    "- feature importanceの観点から考察すると，SMOTEを適用することで，より特定の特徴量に頼って分類するようになることがわかる"
   ]
  },
  {
   "cell_type": "code",
   "execution_count": 19,
   "metadata": {},
   "outputs": [],
   "source": [
    "smt = SMOTE(random_state=0)\n",
    "x_train_smt, y_train_smt = smt.fit_resample(x_train, y_train)"
   ]
  },
  {
   "cell_type": "code",
   "execution_count": 20,
   "metadata": {},
   "outputs": [
    {
     "name": "stdout",
     "output_type": "stream",
     "text": "0.9553571428571429\n"
    },
    {
     "data": {
      "text/html": "<div>\n<style scoped>\n    .dataframe tbody tr th:only-of-type {\n        vertical-align: middle;\n    }\n\n    .dataframe tbody tr th {\n        vertical-align: top;\n    }\n\n    .dataframe thead th {\n        text-align: right;\n    }\n</style>\n<table border=\"1\" class=\"dataframe\">\n  <thead>\n    <tr style=\"text-align: right;\">\n      <th></th>\n      <th>feature</th>\n      <th>importance</th>\n    </tr>\n  </thead>\n  <tbody>\n    <tr>\n      <th>22</th>\n      <td>worst perimeter</td>\n      <td>0.135527</td>\n    </tr>\n    <tr>\n      <th>7</th>\n      <td>mean concave points</td>\n      <td>0.134572</td>\n    </tr>\n    <tr>\n      <th>27</th>\n      <td>worst concave points</td>\n      <td>0.123823</td>\n    </tr>\n    <tr>\n      <th>23</th>\n      <td>worst area</td>\n      <td>0.102645</td>\n    </tr>\n    <tr>\n      <th>20</th>\n      <td>worst radius</td>\n      <td>0.094060</td>\n    </tr>\n  </tbody>\n</table>\n</div>",
      "text/plain": "                 feature  importance\n22       worst perimeter    0.135527\n7    mean concave points    0.134572\n27  worst concave points    0.123823\n23            worst area    0.102645\n20          worst radius    0.094060"
     },
     "execution_count": 20,
     "metadata": {},
     "output_type": "execute_result"
    }
   ],
   "source": [
    "clf.fit(x_train_smt, y_train_smt)\n",
    "print(clf.score(x_test, y_test))\n",
    "feature_importance(data.columns, clf.feature_importances_)"
   ]
  },
  {
   "cell_type": "markdown",
   "execution_count": 131,
   "metadata": {},
   "outputs": [],
   "source": [
    "# より不均衡なデータに対するSMOTEの威力を調査\n",
    "- データをより不均衡にした場合，Data Augmentationを適用しないと著しく精度が低下した．\n",
    "- SMOTEを適用した場合でも精度は劣化するが，適用しない場合と比べて精度が向上している．\n",
    "- また，SMOTEを適用することで，モデルがより有用な特徴に頼ろうとする傾向も見られた"
   ]
  },
  {
   "cell_type": "markdown",
   "execution_count": null,
   "metadata": {},
   "outputs": [],
   "source": [
    "## 学習データをあえて不均衡にする\n",
    "- minor classである0のデータを0.5カットしている"
   ]
  },
  {
   "cell_type": "code",
   "execution_count": 21,
   "metadata": {},
   "outputs": [
    {
     "data": {
      "text/plain": "1    301\n0     39\nName: target, dtype: int64"
     },
     "execution_count": 21,
     "metadata": {},
     "output_type": "execute_result"
    }
   ],
   "source": [
    "minor_class = 0\n",
    "rm_rate = 0.75\n",
    "\n",
    "minor_index = y_train[y_train == minor_class].index.tolist()\n",
    "rm_index = random.sample(minor_index, int(len(minor_index) * rm_rate))\n",
    "x_train_imb = x_train.drop(rm_index, axis=0)\n",
    "y_train_imb = y_train.drop(rm_index, axis=0)\n",
    "y_train_imb.value_counts()"
   ]
  },
  {
   "cell_type": "markdown",
   "execution_count": null,
   "metadata": {},
   "outputs": [],
   "source": [
    "## そのままRandom Forestで学習"
   ]
  },
  {
   "cell_type": "code",
   "execution_count": 22,
   "metadata": {},
   "outputs": [
    {
     "name": "stdout",
     "output_type": "stream",
     "text": "0.8928571428571429\n"
    },
    {
     "data": {
      "text/html": "<div>\n<style scoped>\n    .dataframe tbody tr th:only-of-type {\n        vertical-align: middle;\n    }\n\n    .dataframe tbody tr th {\n        vertical-align: top;\n    }\n\n    .dataframe thead th {\n        text-align: right;\n    }\n</style>\n<table border=\"1\" class=\"dataframe\">\n  <thead>\n    <tr style=\"text-align: right;\">\n      <th></th>\n      <th>feature</th>\n      <th>importance</th>\n    </tr>\n  </thead>\n  <tbody>\n    <tr>\n      <th>27</th>\n      <td>worst concave points</td>\n      <td>0.153551</td>\n    </tr>\n    <tr>\n      <th>7</th>\n      <td>mean concave points</td>\n      <td>0.121166</td>\n    </tr>\n    <tr>\n      <th>22</th>\n      <td>worst perimeter</td>\n      <td>0.099792</td>\n    </tr>\n    <tr>\n      <th>20</th>\n      <td>worst radius</td>\n      <td>0.097573</td>\n    </tr>\n    <tr>\n      <th>2</th>\n      <td>mean perimeter</td>\n      <td>0.074802</td>\n    </tr>\n  </tbody>\n</table>\n</div>",
      "text/plain": "                 feature  importance\n27  worst concave points    0.153551\n7    mean concave points    0.121166\n22       worst perimeter    0.099792\n20          worst radius    0.097573\n2         mean perimeter    0.074802"
     },
     "execution_count": 22,
     "metadata": {},
     "output_type": "execute_result"
    }
   ],
   "source": [
    "clf.fit(x_train_imb, y_train_imb)\n",
    "print(clf.score(x_test, y_test))\n",
    "feature_importance(data.columns, clf.feature_importances_)"
   ]
  },
  {
   "cell_type": "markdown",
   "execution_count": null,
   "metadata": {},
   "outputs": [],
   "source": [
    "## SMOTEしてからRandom Forestで学習"
   ]
  },
  {
   "cell_type": "code",
   "execution_count": 23,
   "metadata": {},
   "outputs": [
    {
     "data": {
      "text/plain": "1    301\n0    301\nName: target, dtype: int64"
     },
     "execution_count": 23,
     "metadata": {},
     "output_type": "execute_result"
    }
   ],
   "source": [
    "x_train_imb_smt, y_train_imb_smt = smt.fit_resample(x_train_imb, y_train_imb)\n",
    "y_train_imb_smt.value_counts()"
   ]
  },
  {
   "cell_type": "code",
   "execution_count": 25,
   "metadata": {},
   "outputs": [
    {
     "name": "stdout",
     "output_type": "stream",
     "text": "0.9196428571428571\n"
    },
    {
     "data": {
      "text/html": "<div>\n<style scoped>\n    .dataframe tbody tr th:only-of-type {\n        vertical-align: middle;\n    }\n\n    .dataframe tbody tr th {\n        vertical-align: top;\n    }\n\n    .dataframe thead th {\n        text-align: right;\n    }\n</style>\n<table border=\"1\" class=\"dataframe\">\n  <thead>\n    <tr style=\"text-align: right;\">\n      <th></th>\n      <th>feature</th>\n      <th>importance</th>\n    </tr>\n  </thead>\n  <tbody>\n    <tr>\n      <th>27</th>\n      <td>worst concave points</td>\n      <td>0.161736</td>\n    </tr>\n    <tr>\n      <th>7</th>\n      <td>mean concave points</td>\n      <td>0.129310</td>\n    </tr>\n    <tr>\n      <th>6</th>\n      <td>mean concavity</td>\n      <td>0.090461</td>\n    </tr>\n    <tr>\n      <th>22</th>\n      <td>worst perimeter</td>\n      <td>0.084780</td>\n    </tr>\n    <tr>\n      <th>23</th>\n      <td>worst area</td>\n      <td>0.083245</td>\n    </tr>\n  </tbody>\n</table>\n</div>",
      "text/plain": "                 feature  importance\n27  worst concave points    0.161736\n7    mean concave points    0.129310\n6         mean concavity    0.090461\n22       worst perimeter    0.084780\n23            worst area    0.083245"
     },
     "execution_count": 25,
     "metadata": {},
     "output_type": "execute_result"
    }
   ],
   "source": [
    "clf.fit(x_train_imb_smt, y_train_imb_smt)\n",
    "print(clf.score(x_test, y_test))\n",
    "feature_importance(data.columns, clf.feature_importances_)"
   ]
  },
  {
   "cell_type": "markdown",
   "execution_count": null,
   "metadata": {},
   "outputs": [],
   "source": [
    "# まとめ\n",
    "- 肺癌のpos, negを判定するbinary classificationのデータセットを利用した実験を行った\n",
    "- RandomForestによる学習による精度の検証を行った\n",
    "- SMOTEを適用することによるモデルの精度改善についても調査を行った\n",
    "- 今回使用したデータセットに対しては，SMOTEにより平均2%ほどの精度改善が見られた\n",
    "- また，SMOTEを適用することにより，モデルがより有用な特徴量をに依存して分類する傾向にあることがわかった"
   ]
  }
 ]
}