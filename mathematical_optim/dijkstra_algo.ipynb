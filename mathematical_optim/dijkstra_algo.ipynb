{
 "cells": [
  {
   "cell_type": "markdown",
   "metadata": {},
   "source": [
    "# NetworkX weighted graph"
   ]
  },
  {
   "cell_type": "code",
   "execution_count": 1,
   "metadata": {},
   "outputs": [],
   "source": [
    "import networkx as nx"
   ]
  },
  {
   "cell_type": "code",
   "execution_count": 34,
   "metadata": {},
   "outputs": [],
   "source": [
    "G = nx.Graph()\n",
    "G.add_weighted_edges_from([(1, 2, 0.125), \n",
    "                           (1, 3, 0.75), \n",
    "                           (2, 4, 1.2), \n",
    "                           (3, 4, 0.375)])"
   ]
  },
  {
   "cell_type": "code",
   "execution_count": 36,
   "metadata": {},
   "outputs": [
    {
     "name": "stdout",
     "output_type": "stream",
     "text": [
      "1, 2, 0.125\n",
      "2, 1, 0.125\n",
      "3, 4, 0.375\n",
      "4, 3, 0.375\n"
     ]
    }
   ],
   "source": [
    "for n, nbrs in G.adj.items():\n",
    "    for nbr, eattr in nbrs.items():\n",
    "        wt = eattr['weight']\n",
    "        if wt < 0.5:\n",
    "            print('%d, %d, %.3f' % (n, nbr, wt))"
   ]
  },
  {
   "cell_type": "code",
   "execution_count": null,
   "metadata": {},
   "outputs": [],
   "source": [
    "vertices = {a, b, c, d, e, f};\n",
    "weightededges = {{a -> b, 15}, {b -> c, 10}, {b -> d, 3}, {c -> e, \n",
    "    8}, {c -> d, 20}, {c -> f, 30}, {f -> b, 4}, {d -> e, 30}};"
   ]
  },
  {
   "cell_type": "code",
   "execution_count": 37,
   "metadata": {},
   "outputs": [],
   "source": [
    "G2 = nx.Graph()\n",
    "G.add_weighted_edges_from([(1, 2, 15),\n",
    "                           (2, 3, 10),\n",
    "                           (2, 4, 3),\n",
    "                           (3, 5, 8),\n",
    "                           (3, 4, 20),\n",
    "                           (3, 6, 30),\n",
    "                           (6, 2, 4),\n",
    "                           (4, 5, 30)\n",
    "                          ])"
   ]
  },
  {
   "cell_type": "code",
   "execution_count": 38,
   "metadata": {},
   "outputs": [],
   "source": [
    "import matplotlib.pyplot as plt"
   ]
  },
  {
   "cell_type": "code",
   "execution_count": 44,
   "metadata": {},
   "outputs": [
    {
     "data": {
      "image/png": "[encoded data removed]",
      "text/plain": [
       "<Figure size 432x288 with 1 Axes>"
      ]
     },
     "metadata": {},
     "output_type": "display_data"
    }
   ],
   "source": [
    "nx.draw(G, with_labels=True, font_weight='bold')"
   ]
  },
  {
   "cell_type": "code",
   "execution_count": 61,
   "metadata": {},
   "outputs": [],
   "source": [
    "import random\n",
    "random.seed(0)"
   ]
  },
  {
   "cell_type": "code",
   "execution_count": 128,
   "metadata": {},
   "outputs": [],
   "source": [
    "G_ex = nx.DiGraph()\n",
    "G_ex.add_weighted_edges_from([('a', 'b', random.randint(10, 100)),\n",
    "                              ('a', 'c', random.randint(10, 100)),\n",
    "                              ('a', 'd', random.randint(10, 100)),\n",
    "                              ('b', 'd', random.randint(10, 100)),\n",
    "                              ('b', 'h', random.randint(10, 100)),\n",
    "                              ('c', 'e', random.randint(10, 100)),\n",
    "                              ('c', 'd', random.randint(10, 100)),\n",
    "                              ('d', 'e', random.randint(10, 100)),\n",
    "                              ('d', 'g', random.randint(10, 100)),\n",
    "                              ('d', 'f', random.randint(10, 100)),\n",
    "                              ('d', 'h', random.randint(10, 100)),\n",
    "                              ('e', 'g', random.randint(10, 100)),\n",
    "                              ('f', 'g', random.randint(10, 100)),\n",
    "                              ('h', 'f', random.randint(10, 100)),\n",
    "                              ('h', 'g', random.randint(10, 100))\n",
    "                             ])\n"
   ]
  },
  {
   "cell_type": "code",
   "execution_count": 246,
   "metadata": {},
   "outputs": [
    {
     "name": "stdout",
     "output_type": "stream",
     "text": [
      "a b 34\n",
      "a c 33\n",
      "a d 14\n",
      "b d 88\n",
      "b h 94\n",
      "c e 43\n",
      "c d 70\n",
      "d e 18\n",
      "d g 21\n",
      "d f 96\n",
      "d h 26\n",
      "h f 20\n",
      "h g 99\n",
      "e g 29\n",
      "f g 14\n",
      "['a', 'a', 'a', 'b', 'b', 'c', 'c', 'd', 'd', 'd', 'd', 'h', 'h', 'e', 'f']\n",
      "['b', 'c', 'd', 'd', 'h', 'e', 'd', 'e', 'g', 'f', 'h', 'f', 'g', 'g', 'g']\n",
      "[34, 33, 14, 88, 94, 43, 70, 18, 21, 96, 26, 20, 99, 29, 14]\n",
      "[['a', 'b'], ['a', 'c'], ['a', 'd'], ['b', 'd'], ['b', 'h'], ['c', 'e'], ['c', 'd'], ['d', 'e'], ['d', 'g'], ['d', 'f'], ['d', 'h'], ['h', 'f'], ['h', 'g'], ['e', 'g'], ['f', 'g']]\n",
      "['a', 'a', 'a', 'b', 'b', 'c', 'c', 'd', 'd', 'd', 'd', 'h', 'h', 'e', 'f', 'b', 'c', 'd', 'd', 'h', 'e', 'd', 'e', 'g', 'f', 'h', 'f', 'g', 'g', 'g']\n",
      "['a', 'b', 'c', 'd', 'e', 'f', 'g', 'h']\n"
     ]
    }
   ],
   "source": [
    "sources = []\n",
    "targets = []\n",
    "weights = []\n",
    "edges = []\n",
    "\n",
    "for a, b, c in nx.to_edgelist(G_ex):\n",
    "    print(a, b, c['weight'])\n",
    "    sources.append(a)\n",
    "    targets.append(b)\n",
    "    weights.append(c['weight'])\n",
    "    edges.append([a, b])\n",
    "    \n",
    "print(sources)\n",
    "print(targets)\n",
    "print(weights)\n",
    "print(edges)\n",
    "verticies = copy.deepcopy(sources)\n",
    "verticies.extend(targets)\n",
    "print(verticies)\n",
    "verticies = list(set(verticies))\n",
    "verticies = sorted(verticies)\n",
    "print(verticies)"
   ]
  },
  {
   "cell_type": "code",
   "execution_count": 247,
   "metadata": {},
   "outputs": [
    {
     "data": {
      "image/png": "[encoded data removed]",
      "text/plain": [
       "<Figure size 432x288 with 1 Axes>"
      ]
     },
     "metadata": {},
     "output_type": "display_data"
    }
   ],
   "source": [
    "pos = nx.spring_layout(G_ex, k=0.8)\n",
    "edge_labels = {(i, j): w['weight'] for i, j, w in G_ex.edges(data=True)}\n",
    "nx.draw_networkx_edge_labels(G,pos, edge_labels=edge_labels)\n",
    "nx.draw_networkx(G_ex, pos=pos, with_labels=True, font_weight='bold', node_color='c')"
   ]
  },
  {
   "cell_type": "markdown",
   "metadata": {},
   "source": [
    "### Dijkstra's Algorithm"
   ]
  },
  {
   "cell_type": "code",
   "execution_count": 248,
   "metadata": {},
   "outputs": [],
   "source": [
    "import copy"
   ]
  },
  {
   "cell_type": "code",
   "execution_count": 270,
   "metadata": {},
   "outputs": [],
   "source": [
    "def dijkstra_algorithm(verticies, edges, weights):\n",
    "    start = 'a'\n",
    "    P = [start] # Past\n",
    "    F = [start] # Future\n",
    "    S = [] # Subset\n",
    "    V = verticies # Vertcies'\n",
    "\n",
    "    w_max = sum(weights)\n",
    "    WM = {'a': [0, None], 'b': [w_max, None], 'c': [w_max, None],\n",
    "          'd': [w_max, None], 'e': [w_max, None], 'f': [w_max, None], \n",
    "          'g': [w_max, None], 'h': [w_max, None]}\n",
    "\n",
    "    for count in range(10):\n",
    "#         print(count)\n",
    "#         print('F: ', F)\n",
    "#         print('S: ', S)\n",
    "#         print('WM: ', WM)\n",
    "#         print('P: ', P)\n",
    "#         print('V: ', V)\n",
    "\n",
    "        # 1\n",
    "        if sorted(list(set(P))) != V:\n",
    "            # 2\n",
    "            subtract_set = copy.deepcopy(V)\n",
    "            for p in P:\n",
    "                if p in subtract_set:\n",
    "                    subtract_set.remove(p)\n",
    "                    \n",
    "#             print('subtract_set: ', subtract_set)\n",
    "            \n",
    "            E_cand = []\n",
    "            for f in F:\n",
    "                for v in subtract_set:\n",
    "                    if [f, v] in edges:\n",
    "                        E_cand.append([f , v])\n",
    "            \n",
    "#             print('E_cand: ', E_cand)\n",
    "            # 2 if\n",
    "            if E_cand != []:\n",
    "                # 3\n",
    "                for src, tar in E_cand:\n",
    "                    position = edges.index([src, tar])\n",
    "                    if WM[tar][0] > WM[src][0] + weights[position]:\n",
    "                        WM[tar][0] = WM[src][0] + weights[position]\n",
    "                        WM[tar][1] = src\n",
    "                        \n",
    "                # 4\n",
    "                w_min = w_max\n",
    "                for v in subtract_set:\n",
    "                    w = WM[v][0]\n",
    "                    if w != 0 and w < w_min:\n",
    "                        new = v\n",
    "                    \n",
    "                P.append(new)\n",
    "                F.append(new)\n",
    "                S.append((WM[new][1], new))\n",
    "            \n",
    "            # 2 else\n",
    "            else:\n",
    "                F = None\n",
    "#                 print('2 else')\n",
    "                \n",
    "        else:\n",
    "            break\n",
    "            \n",
    "    print(WM)\n",
    "    print(S)"
   ]
  },
  {
   "cell_type": "code",
   "execution_count": 271,
   "metadata": {},
   "outputs": [
    {
     "name": "stdout",
     "output_type": "stream",
     "text": [
      "{'a': [0, None], 'b': [34, 'a'], 'c': [33, 'a'], 'd': [14, 'a'], 'e': [32, 'd'], 'f': [60, 'h'], 'g': [35, 'd'], 'h': [40, 'd']}\n",
      "[('a', 'd'), ('d', 'h'), ('d', 'g'), ('h', 'f'), ('d', 'e'), ('a', 'c'), ('a', 'b')]\n"
     ]
    }
   ],
   "source": [
    "for a, b, c in nx.to_edgelist(G_ex):\n",
    "    sources.append(a)\n",
    "    targets.append(b)\n",
    "    weights.append(c['weight'])\n",
    "    edges.append([a, b])\n",
    "    \n",
    "verticies = copy.deepcopy(sources)\n",
    "verticies.extend(targets)\n",
    "verticies = list(set(verticies))\n",
    "verticies = sorted(verticies)\n",
    "\n",
    "dijkstra_algorithm(verticies, edges, weights)"
   ]
  },
  {
   "cell_type": "code",
   "execution_count": 272,
   "metadata": {},
   "outputs": [
    {
     "data": {
      "text/plain": [
       "{'a': 0, 'd': 14, 'e': 32, 'c': 33, 'b': 34, 'g': 35, 'h': 40, 'f': 60}"
      ]
     },
     "execution_count": 272,
     "metadata": {},
     "output_type": "execute_result"
    }
   ],
   "source": [
    "nx.single_source_dijkstra_path_length(G_ex, 'a')"
   ]
  }
 ],
 "metadata": {
  "kernelspec": {
   "display_name": "Python 3",
   "language": "python",
   "name": "python3"
  },
  "language_info": {
   "codemirror_mode": {
    "name": "ipython",
    "version": 3
   },
   "file_extension": ".py",
   "mimetype": "text/x-python",
   "name": "python",
   "nbconvert_exporter": "python",
   "pygments_lexer": "ipython3",
   "version": "3.6.6"
  }
 },
 "nbformat": 4,
 "nbformat_minor": 2
}
